{
 "cells": [
  {
   "cell_type": "markdown",
   "metadata": {},
   "source": [
    "# Importing the required libs"
   ]
  },
  {
   "cell_type": "code",
   "execution_count": 2,
   "metadata": {},
   "outputs": [],
   "source": [
    "import numpy as np\n",
    "import pandas as pd\n",
    "import matplotlib.pyplot as plt\n",
    "import seaborn as sns\n",
    "import copy\n",
    "import pandas_datareader.data as pdr\n",
    "from datetime import datetime"
   ]
  },
  {
   "cell_type": "code",
   "execution_count": 3,
   "metadata": {},
   "outputs": [],
   "source": [
    "from statsmodels.tsa.stattools import coint\n",
    "from statsmodels.api import OLS"
   ]
  },
  {
   "cell_type": "markdown",
   "metadata": {},
   "source": [
    "# Defining the stock universe. In this case we use Bank Nifty stocks"
   ]
  },
  {
   "cell_type": "code",
   "execution_count": 4,
   "metadata": {},
   "outputs": [],
   "source": [
    "tickers = [\"HDFC.NS\",\"HDFCBANK.NS\",\"ICICIBANK.NS\",\"YESBANK.NS\",\"KOTAKBANK.NS\",\"AXISBANK.NS\",\"SBIN.NS\",\"IDFC.NS\",\"BAJAJFINSV.NS\"]"
   ]
  },
  {
   "cell_type": "markdown",
   "metadata": {},
   "source": [
    "Importing data from 2012 to current day"
   ]
  },
  {
   "cell_type": "code",
   "execution_count": 5,
   "metadata": {},
   "outputs": [],
   "source": [
    "start= datetime(2012,1,1)\n",
    "end = datetime.today()\n",
    "\n",
    "ohlc_daily = {}\n",
    "\n",
    "\n",
    "for i in range(len(tickers)):\n",
    "    ohlc_daily[tickers[i]] = pdr.get_data_yahoo(tickers[i],start = start , end = end)"
   ]
  },
  {
   "cell_type": "markdown",
   "metadata": {},
   "source": [
    "# Dividing dataset to training and test phase"
   ]
  },
  {
   "cell_type": "code",
   "execution_count": 6,
   "metadata": {},
   "outputs": [],
   "source": [
    "train_limit=1400\n",
    "ohlc_daily_train = {}\n",
    "for ticker in tickers:\n",
    "    ohlc_daily_train[ticker] = ohlc_daily[ticker][:train_limit] \n",
    "\n",
    "ohlc_daily_test = {}\n",
    "for ticker in tickers:\n",
    "    ohlc_daily_test[ticker] = ohlc_daily[ticker][train_limit:]"
   ]
  },
  {
   "cell_type": "code",
   "execution_count": 7,
   "metadata": {},
   "outputs": [],
   "source": [
    "train_database = pd.DataFrame()\n",
    "for ticker in tickers:\n",
    "    train_database = pd.concat([train_database,ohlc_daily_train[ticker]['Adj Close']],axis = 1) \n",
    "train_database.columns = tickers\n",
    "train_database.dropna(inplace = True)"
   ]
  },
  {
   "cell_type": "code",
   "execution_count": 8,
   "metadata": {},
   "outputs": [
    {
     "data": {
      "text/html": [
       "<div>\n",
       "<style scoped>\n",
       "    .dataframe tbody tr th:only-of-type {\n",
       "        vertical-align: middle;\n",
       "    }\n",
       "\n",
       "    .dataframe tbody tr th {\n",
       "        vertical-align: top;\n",
       "    }\n",
       "\n",
       "    .dataframe thead th {\n",
       "        text-align: right;\n",
       "    }\n",
       "</style>\n",
       "<table border=\"1\" class=\"dataframe\">\n",
       "  <thead>\n",
       "    <tr style=\"text-align: right;\">\n",
       "      <th></th>\n",
       "      <th>HDFC.NS</th>\n",
       "      <th>HDFCBANK.NS</th>\n",
       "      <th>ICICIBANK.NS</th>\n",
       "      <th>YESBANK.NS</th>\n",
       "      <th>KOTAKBANK.NS</th>\n",
       "      <th>AXISBANK.NS</th>\n",
       "      <th>SBIN.NS</th>\n",
       "      <th>IDFC.NS</th>\n",
       "      <th>BAJAJFINSV.NS</th>\n",
       "    </tr>\n",
       "  </thead>\n",
       "  <tbody>\n",
       "    <tr>\n",
       "      <th>2017-09-04 00:00:00</th>\n",
       "      <td>1671.210083</td>\n",
       "      <td>862.600769</td>\n",
       "      <td>291.086151</td>\n",
       "      <td>340.682617</td>\n",
       "      <td>977.074341</td>\n",
       "      <td>501.127655</td>\n",
       "      <td>277.750000</td>\n",
       "      <td>52.669125</td>\n",
       "      <td>5370.920898</td>\n",
       "    </tr>\n",
       "    <tr>\n",
       "      <th>2017-09-05 00:00:00</th>\n",
       "      <td>1682.539551</td>\n",
       "      <td>864.793091</td>\n",
       "      <td>291.576019</td>\n",
       "      <td>343.415253</td>\n",
       "      <td>987.363586</td>\n",
       "      <td>502.775604</td>\n",
       "      <td>276.549988</td>\n",
       "      <td>53.390617</td>\n",
       "      <td>5389.548828</td>\n",
       "    </tr>\n",
       "    <tr>\n",
       "      <th>2017-09-06 00:00:00</th>\n",
       "      <td>1689.870117</td>\n",
       "      <td>867.034851</td>\n",
       "      <td>289.371582</td>\n",
       "      <td>346.447266</td>\n",
       "      <td>995.105408</td>\n",
       "      <td>492.238678</td>\n",
       "      <td>274.250000</td>\n",
       "      <td>54.337582</td>\n",
       "      <td>5449.727539</td>\n",
       "    </tr>\n",
       "    <tr>\n",
       "      <th>2017-09-07 00:00:00</th>\n",
       "      <td>1696.248657</td>\n",
       "      <td>870.310974</td>\n",
       "      <td>286.726227</td>\n",
       "      <td>347.615601</td>\n",
       "      <td>992.458191</td>\n",
       "      <td>495.984039</td>\n",
       "      <td>274.200012</td>\n",
       "      <td>54.292484</td>\n",
       "      <td>5617.180664</td>\n",
       "    </tr>\n",
       "    <tr>\n",
       "      <th>2017-09-08 00:00:00</th>\n",
       "      <td>1693.821167</td>\n",
       "      <td>880.706116</td>\n",
       "      <td>286.089386</td>\n",
       "      <td>345.491302</td>\n",
       "      <td>1006.493408</td>\n",
       "      <td>493.387268</td>\n",
       "      <td>271.799988</td>\n",
       "      <td>53.165150</td>\n",
       "      <td>5588.165039</td>\n",
       "    </tr>\n",
       "  </tbody>\n",
       "</table>\n",
       "</div>"
      ],
      "text/plain": [
       "                         HDFC.NS  HDFCBANK.NS  ICICIBANK.NS  YESBANK.NS  \\\n",
       "2017-09-04 00:00:00  1671.210083   862.600769    291.086151  340.682617   \n",
       "2017-09-05 00:00:00  1682.539551   864.793091    291.576019  343.415253   \n",
       "2017-09-06 00:00:00  1689.870117   867.034851    289.371582  346.447266   \n",
       "2017-09-07 00:00:00  1696.248657   870.310974    286.726227  347.615601   \n",
       "2017-09-08 00:00:00  1693.821167   880.706116    286.089386  345.491302   \n",
       "\n",
       "                     KOTAKBANK.NS  AXISBANK.NS     SBIN.NS    IDFC.NS  \\\n",
       "2017-09-04 00:00:00    977.074341   501.127655  277.750000  52.669125   \n",
       "2017-09-05 00:00:00    987.363586   502.775604  276.549988  53.390617   \n",
       "2017-09-06 00:00:00    995.105408   492.238678  274.250000  54.337582   \n",
       "2017-09-07 00:00:00    992.458191   495.984039  274.200012  54.292484   \n",
       "2017-09-08 00:00:00   1006.493408   493.387268  271.799988  53.165150   \n",
       "\n",
       "                     BAJAJFINSV.NS  \n",
       "2017-09-04 00:00:00    5370.920898  \n",
       "2017-09-05 00:00:00    5389.548828  \n",
       "2017-09-06 00:00:00    5449.727539  \n",
       "2017-09-07 00:00:00    5617.180664  \n",
       "2017-09-08 00:00:00    5588.165039  "
      ]
     },
     "execution_count": 8,
     "metadata": {},
     "output_type": "execute_result"
    }
   ],
   "source": [
    "train_database.tail()"
   ]
  },
  {
   "cell_type": "code",
   "execution_count": 9,
   "metadata": {},
   "outputs": [],
   "source": [
    "test_database = pd.DataFrame()\n",
    "for ticker in tickers:\n",
    "    test_database = pd.concat([test_database,ohlc_daily_test[ticker]['Adj Close']],axis = 1) \n",
    "test_database.columns = tickers\n",
    "test_database.dropna(inplace = True)"
   ]
  },
  {
   "cell_type": "markdown",
   "metadata": {},
   "source": [
    "# Running the stationarity test and choosing pairs having t-score < 3"
   ]
  },
  {
   "cell_type": "code",
   "execution_count": 10,
   "metadata": {},
   "outputs": [
    {
     "data": {
      "text/plain": [
       "array([[ 0.        , -2.39334581, -0.24554973, -3.11269581, -1.60465792,\n",
       "         0.32848179, -0.15406879, -0.03458631, -2.86782542],\n",
       "       [ 0.        ,  0.        ,  0.22927127, -3.09639176, -1.71305417,\n",
       "         1.85350216, -0.34770095,  1.82602763, -2.29029846],\n",
       "       [ 0.        ,  0.        ,  0.        , -1.78673328, -1.64798427,\n",
       "        -2.09131882, -4.48637569, -0.95320772, -1.68068448],\n",
       "       [ 0.        ,  0.        ,  0.        ,  0.        , -1.84061614,\n",
       "         1.73103712, -0.16852666,  1.32161422, -2.27640866],\n",
       "       [ 0.        ,  0.        ,  0.        ,  0.        ,  0.        ,\n",
       "         0.12490243, -1.40214643,  0.61459943, -1.70028511],\n",
       "       [ 0.        ,  0.        ,  0.        ,  0.        ,  0.        ,\n",
       "         0.        , -2.52941886, -1.0532518 , -1.10818252],\n",
       "       [ 0.        ,  0.        ,  0.        ,  0.        ,  0.        ,\n",
       "         0.        ,  0.        , -1.346585  , -1.85882821],\n",
       "       [ 0.        ,  0.        ,  0.        ,  0.        ,  0.        ,\n",
       "         0.        ,  0.        ,  0.        , -2.57520269],\n",
       "       [ 0.        ,  0.        ,  0.        ,  0.        ,  0.        ,\n",
       "         0.        ,  0.        ,  0.        ,  0.        ]])"
      ]
     },
     "execution_count": 10,
     "metadata": {},
     "output_type": "execute_result"
    }
   ],
   "source": [
    "def find_cointegrated_pairs(data,t_score):\n",
    "    n = data.shape[1]\n",
    "    score_matrix = np.zeros((n, n))\n",
    "    keys = data.keys()\n",
    "    pairs = []\n",
    "    for i in range(n):\n",
    "        for j in range(i+1, n):\n",
    "            S1 = data[keys[i]]\n",
    "            S2 = data[keys[j]]\n",
    "            result = coint(S1, S2)\n",
    "            score = result[0]\n",
    "            score_matrix[i, j] = score\n",
    "            if score < t_score :\n",
    "                pairs.append((keys[i], keys[j]))\n",
    "    return score_matrix,pairs\n",
    "\n",
    "scores, pairs = find_cointegrated_pairs(train_database,t_score=-3)\n",
    "scores"
   ]
  },
  {
   "cell_type": "markdown",
   "metadata": {},
   "source": [
    "# Creating spread and using regression on train data to determine hedge ratio"
   ]
  },
  {
   "cell_type": "code",
   "execution_count": 11,
   "metadata": {},
   "outputs": [
    {
     "data": {
      "text/html": [
       "<table class=\"simpletable\">\n",
       "<caption>OLS Regression Results</caption>\n",
       "<tr>\n",
       "  <th>Dep. Variable:</th>         <td>HDFC.NS</td>     <th>  R-squared (uncentered):</th>      <td>   0.963</td> \n",
       "</tr>\n",
       "<tr>\n",
       "  <th>Model:</th>                   <td>OLS</td>       <th>  Adj. R-squared (uncentered):</th> <td>   0.963</td> \n",
       "</tr>\n",
       "<tr>\n",
       "  <th>Method:</th>             <td>Least Squares</td>  <th>  F-statistic:       </th>          <td>3.651e+04</td>\n",
       "</tr>\n",
       "<tr>\n",
       "  <th>Date:</th>             <td>Mon, 03 Aug 2020</td> <th>  Prob (F-statistic):</th>           <td>  0.00</td>  \n",
       "</tr>\n",
       "<tr>\n",
       "  <th>Time:</th>                 <td>01:08:09</td>     <th>  Log-Likelihood:    </th>          <td> -9241.5</td> \n",
       "</tr>\n",
       "<tr>\n",
       "  <th>No. Observations:</th>      <td>  1400</td>      <th>  AIC:               </th>          <td>1.848e+04</td>\n",
       "</tr>\n",
       "<tr>\n",
       "  <th>Df Residuals:</th>          <td>  1399</td>      <th>  BIC:               </th>          <td>1.849e+04</td>\n",
       "</tr>\n",
       "<tr>\n",
       "  <th>Df Model:</th>              <td>     1</td>      <th>                     </th>              <td> </td>    \n",
       "</tr>\n",
       "<tr>\n",
       "  <th>Covariance Type:</th>      <td>nonrobust</td>    <th>                     </th>              <td> </td>    \n",
       "</tr>\n",
       "</table>\n",
       "<table class=\"simpletable\">\n",
       "<tr>\n",
       "        <td></td>          <th>coef</th>     <th>std err</th>      <th>t</th>      <th>P>|t|</th>  <th>[0.025</th>    <th>0.975]</th>  \n",
       "</tr>\n",
       "<tr>\n",
       "  <th>KOTAKBANK.NS</th> <td>    1.5458</td> <td>    0.008</td> <td>  191.064</td> <td> 0.000</td> <td>    1.530</td> <td>    1.562</td>\n",
       "</tr>\n",
       "</table>\n",
       "<table class=\"simpletable\">\n",
       "<tr>\n",
       "  <th>Omnibus:</th>       <td>163.407</td> <th>  Durbin-Watson:     </th> <td>   0.010</td>\n",
       "</tr>\n",
       "<tr>\n",
       "  <th>Prob(Omnibus):</th> <td> 0.000</td>  <th>  Jarque-Bera (JB):  </th> <td> 214.352</td>\n",
       "</tr>\n",
       "<tr>\n",
       "  <th>Skew:</th>          <td>-0.943</td>  <th>  Prob(JB):          </th> <td>2.84e-47</td>\n",
       "</tr>\n",
       "<tr>\n",
       "  <th>Kurtosis:</th>      <td> 2.654</td>  <th>  Cond. No.          </th> <td>    1.00</td>\n",
       "</tr>\n",
       "</table><br/><br/>Warnings:<br/>[1] Standard Errors assume that the covariance matrix of the errors is correctly specified."
      ],
      "text/plain": [
       "<class 'statsmodels.iolib.summary.Summary'>\n",
       "\"\"\"\n",
       "                                 OLS Regression Results                                \n",
       "=======================================================================================\n",
       "Dep. Variable:                HDFC.NS   R-squared (uncentered):                   0.963\n",
       "Model:                            OLS   Adj. R-squared (uncentered):              0.963\n",
       "Method:                 Least Squares   F-statistic:                          3.651e+04\n",
       "Date:                Mon, 03 Aug 2020   Prob (F-statistic):                        0.00\n",
       "Time:                        01:08:09   Log-Likelihood:                         -9241.5\n",
       "No. Observations:                1400   AIC:                                  1.848e+04\n",
       "Df Residuals:                    1399   BIC:                                  1.849e+04\n",
       "Df Model:                           1                                                  \n",
       "Covariance Type:            nonrobust                                                  \n",
       "================================================================================\n",
       "                   coef    std err          t      P>|t|      [0.025      0.975]\n",
       "--------------------------------------------------------------------------------\n",
       "KOTAKBANK.NS     1.5458      0.008    191.064      0.000       1.530       1.562\n",
       "==============================================================================\n",
       "Omnibus:                      163.407   Durbin-Watson:                   0.010\n",
       "Prob(Omnibus):                  0.000   Jarque-Bera (JB):              214.352\n",
       "Skew:                          -0.943   Prob(JB):                     2.84e-47\n",
       "Kurtosis:                       2.654   Cond. No.                         1.00\n",
       "==============================================================================\n",
       "\n",
       "Warnings:\n",
       "[1] Standard Errors assume that the covariance matrix of the errors is correctly specified.\n",
       "\"\"\""
      ]
     },
     "execution_count": 11,
     "metadata": {},
     "output_type": "execute_result"
    }
   ],
   "source": [
    "model = OLS(train_database['HDFC.NS'], train_database['KOTAKBANK.NS'])\n",
    "model = model.fit()\n",
    "\n",
    "\n",
    "\n",
    "df = pd.DataFrame()\n",
    "df['HDFC'] = test_database['HDFC.NS']\n",
    "df['KOTAKBANK'] = test_database['KOTAKBANK.NS']\n",
    "df['spread'] = df['HDFC']- model.params[0]*df['KOTAKBANK']\n",
    "model.summary()"
   ]
  },
  {
   "cell_type": "markdown",
   "metadata": {},
   "source": [
    "# Creating the features required for a Pairs Trading Strategy."
   ]
  },
  {
   "cell_type": "code",
   "execution_count": 24,
   "metadata": {},
   "outputs": [],
   "source": [
    "df['mean']  = df['spread'].rolling(20).mean()\n",
    "df['z_score'] = (df['spread']-df['mean'])/df['spread'].rolling(20).std()\n",
    "\n",
    "\n",
    "\n",
    "df.dropna(inplace=True)\n",
    "\n",
    "entry_threshold = 2 \n",
    "\n",
    "df['Long_Entry']=0\n",
    "df['Long_Exit']=0\n",
    "\n",
    "df['Short_Entry']=0\n",
    "df['Short_Exit']=0"
   ]
  },
  {
   "cell_type": "markdown",
   "metadata": {},
   "source": [
    "# Creating the Pairs Trading strategy. Positions are taken whenever the spread's z-core has crossed the entry threshold and reversed. Exiting the trade when z-score crosses 0"
   ]
  },
  {
   "cell_type": "code",
   "execution_count": 25,
   "metadata": {},
   "outputs": [],
   "source": [
    "def Pairs_Trading(df,hedge_ratio):\n",
    "    signal = 0 \n",
    "    long_ret = []\n",
    "    short_ret = [] \n",
    "    ret = []\n",
    "    \n",
    "    for i in range(len(df)):\n",
    "        \n",
    "        if (signal== 0):\n",
    "            ret.append(0)\n",
    "            long_ret.append(0)\n",
    "            short_ret.append(0)\n",
    "\n",
    "            #Long_Entry:\n",
    "            \n",
    "            if(df['z_score'][i] < - entry_threshold\n",
    "               and df['z_score'][i-1] < df['z_score'][i]\n",
    "               and df['z_score'][i-1] < df['z_score'][i-2]):\n",
    "                signal = 1\n",
    "                df[\"Long_Entry\"][i] = df[\"HDFC\"][i]\n",
    "                df['Short_Entry'][i] = df['KOTAKBANK'][i]\n",
    "            \n",
    "            #Short_Entry:\n",
    "            elif(df['z_score'][i-1] > entry_threshold\n",
    "               and df['z_score'][i-1] > df['z_score'][i]\n",
    "               and df['z_score'][i-1] > df['z_score'][i-2]):\n",
    "                signal = -1\n",
    "                df[\"Long_Entry\"][i] = df[\"KOTAKBANK\"][i]\n",
    "                df['Short_Entry'][i] = df['HDFC'][i]\n",
    "            \n",
    "                       \n",
    "            #Long_Exit\n",
    "        elif (signal == 1):\n",
    "                if(df['z_score'][i] > 0\n",
    "                   and df['z_score'][i-1] < 0):\n",
    "                    signal = 0\n",
    "                    df['Long_Exit'][i] = df['HDFC'][i]\n",
    "                    df['Short_Exit'][i] = df['KOTAKBANK'][i]\n",
    "                    long_ret.append((df['HDFC'][i]/df['HDFC'][i-1]-1))\n",
    "                    short_ret.append(hedge_ratio*(1-df['KOTAKBANK'][i]/df['KOTAKBANK'][i-1]))\n",
    "                else:\n",
    "                    long_ret.append((df['HDFC'][i]/df['HDFC'][i-1]-1))\n",
    "                    short_ret.append(hedge_ratio*(1-df['KOTAKBANK'][i]/df['KOTAKBANK'][i-1]))\n",
    "            \n",
    "             #Short_Exit\n",
    "        elif (signal == -1):\n",
    "                if(df['z_score'][i] < 0 \n",
    "                   and df['z_score'][i-1] > 0):\n",
    "                    signal = 0\n",
    "                    df['Long_Exit'][i] = df['KOTAKBANK'][i]\n",
    "                    df['Short_Exit'][i] = df['HDFC'][i]    \n",
    "                    long_ret.append(hedge_ratio*(df['KOTAKBANK'][i]/df['KOTAKBANK'][i-1]-1))\n",
    "                    short_ret.append((1-df['HDFC'][i]/df['HDFC'][i-1]))\n",
    "                else:\n",
    "                    long_ret.append(hedge_ratio*(df['KOTAKBANK'][i]/df['KOTAKBANK'][i-1]-1))\n",
    "                    short_ret.append((1-df['HDFC'][i]/df['HDFC'][i-1]))\n",
    "\n",
    "      \n",
    "                    \n",
    "                    \n",
    "    df['Long_ret'] = np.array(long_ret)\n",
    "    df['Short_ret'] = np.array(short_ret)\n",
    "    df['ret'] = df['Long_ret'] + df['Short_ret']\n",
    "\n",
    "\n",
    "\n",
    "                    \n",
    "    return df"
   ]
  },
  {
   "cell_type": "markdown",
   "metadata": {},
   "source": [
    "# Running the strategy on the selected pairs"
   ]
  },
  {
   "cell_type": "code",
   "execution_count": 26,
   "metadata": {},
   "outputs": [
    {
     "name": "stderr",
     "output_type": "stream",
     "text": [
      "C:\\Users\\av228\\Anaconda3\\lib\\site-packages\\ipykernel_launcher.py:20: SettingWithCopyWarning: \n",
      "A value is trying to be set on a copy of a slice from a DataFrame\n",
      "\n",
      "See the caveats in the documentation: http://pandas.pydata.org/pandas-docs/stable/user_guide/indexing.html#returning-a-view-versus-a-copy\n",
      "C:\\Users\\av228\\Anaconda3\\lib\\site-packages\\ipykernel_launcher.py:21: SettingWithCopyWarning: \n",
      "A value is trying to be set on a copy of a slice from a DataFrame\n",
      "\n",
      "See the caveats in the documentation: http://pandas.pydata.org/pandas-docs/stable/user_guide/indexing.html#returning-a-view-versus-a-copy\n",
      "C:\\Users\\av228\\Anaconda3\\lib\\site-packages\\ipykernel_launcher.py:37: SettingWithCopyWarning: \n",
      "A value is trying to be set on a copy of a slice from a DataFrame\n",
      "\n",
      "See the caveats in the documentation: http://pandas.pydata.org/pandas-docs/stable/user_guide/indexing.html#returning-a-view-versus-a-copy\n",
      "C:\\Users\\av228\\Anaconda3\\lib\\site-packages\\ipykernel_launcher.py:38: SettingWithCopyWarning: \n",
      "A value is trying to be set on a copy of a slice from a DataFrame\n",
      "\n",
      "See the caveats in the documentation: http://pandas.pydata.org/pandas-docs/stable/user_guide/indexing.html#returning-a-view-versus-a-copy\n",
      "C:\\Users\\av228\\Anaconda3\\lib\\site-packages\\ipykernel_launcher.py:28: SettingWithCopyWarning: \n",
      "A value is trying to be set on a copy of a slice from a DataFrame\n",
      "\n",
      "See the caveats in the documentation: http://pandas.pydata.org/pandas-docs/stable/user_guide/indexing.html#returning-a-view-versus-a-copy\n",
      "C:\\Users\\av228\\Anaconda3\\lib\\site-packages\\ipykernel_launcher.py:29: SettingWithCopyWarning: \n",
      "A value is trying to be set on a copy of a slice from a DataFrame\n",
      "\n",
      "See the caveats in the documentation: http://pandas.pydata.org/pandas-docs/stable/user_guide/indexing.html#returning-a-view-versus-a-copy\n",
      "C:\\Users\\av228\\Anaconda3\\lib\\site-packages\\ipykernel_launcher.py:50: SettingWithCopyWarning: \n",
      "A value is trying to be set on a copy of a slice from a DataFrame\n",
      "\n",
      "See the caveats in the documentation: http://pandas.pydata.org/pandas-docs/stable/user_guide/indexing.html#returning-a-view-versus-a-copy\n",
      "C:\\Users\\av228\\Anaconda3\\lib\\site-packages\\ipykernel_launcher.py:51: SettingWithCopyWarning: \n",
      "A value is trying to be set on a copy of a slice from a DataFrame\n",
      "\n",
      "See the caveats in the documentation: http://pandas.pydata.org/pandas-docs/stable/user_guide/indexing.html#returning-a-view-versus-a-copy\n"
     ]
    }
   ],
   "source": [
    "df2 = df.copy()\n",
    "df3 = Pairs_Trading(df2,hedge_ratio = model.params[0])"
   ]
  },
  {
   "cell_type": "markdown",
   "metadata": {},
   "source": [
    "# Performance analysis function to determine strategy's performance using different metrics"
   ]
  },
  {
   "cell_type": "code",
   "execution_count": 27,
   "metadata": {},
   "outputs": [],
   "source": [
    "def performance_analysis(df,window,rf,leverage):    \n",
    "    \n",
    "    df['cum_return'] = (1+df['ret']*leverage).cumprod()\n",
    "    Cumm_Ret = (df['cum_return'][-1]-1)\n",
    "    \n",
    "    n = len(df)/(252)   \n",
    "    CAGR = ((df[\"cum_return\"][-1])**(1/n) - 1)\n",
    "    \n",
    "    df['rolling_volatility'] = df['ret'].rolling(window).std()\n",
    "    volatility =  df['ret'].std()*np.sqrt(252)\n",
    "    \n",
    "    df['rolling_sharpe'] = df['ret'].rolling(window).mean()/df['ret'].rolling(window).std()*np.sqrt(window)\n",
    "    sr = (CAGR - rf)/volatility\n",
    "    \n",
    "  \n",
    "    \n",
    "    df[\"cum_roll_max\"] = df[\"cum_return\"].cummax()\n",
    "    df[\"drawdown\"] = df[\"cum_roll_max\"] - df[\"cum_return\"]\n",
    "    df[\"drawdown_pct\"] = df[\"drawdown\"]/df[\"cum_roll_max\"]\n",
    "    max_dd = df[\"drawdown_pct\"].max()\n",
    "    \n",
    "    df[\"Year\"] = df.index.map(lambda x: x.year)\n",
    "    df[\"Month\"] = df.index.map(lambda x: x.strftime(\"%b\"))\n",
    "    pt = df.pivot_table(index=\"Month\",columns=\"Year\",values=\"ret\", aggfunc=\"sum\").fillna(0)\n",
    "    months = [\"Jan\", \"Feb\", \"Mar\", \"Apr\", \"May\", \"Jun\", \"Jul\", \"Aug\", \"Sep\", \"Oct\", \"Nov\", \"Dec\"]\n",
    "    pt = pt.reindex(months)    \n",
    "    sns.heatmap(pt, annot=True, cmap=\"RdYlGn\")\n",
    "    \n",
    "    performance_df = pd.DataFrame([Cumm_Ret*100,CAGR*100,volatility,sr,max_dd*100],index=[\"Cumm_Return\",\"Annual_Return\",\"Volatility\",\"Sharpe Ratio\",\"Max Drawdown\"])      \n",
    "    print(performance_df)\n",
    "\n",
    "    return df\n"
   ]
  },
  {
   "cell_type": "code",
   "execution_count": 29,
   "metadata": {},
   "outputs": [
    {
     "name": "stdout",
     "output_type": "stream",
     "text": [
      "                       0\n",
      "Cumm_Return    52.188232\n",
      "Annual_Return  19.465842\n",
      "Volatility      0.153100\n",
      "Sharpe Ratio    1.108154\n",
      "Max Drawdown    8.584825\n"
     ]
    },
    {
     "data": {
      "image/png": "[encoded data removed]",
      "text/plain": [
       "<Figure size 432x288 with 2 Axes>"
      ]
     },
     "metadata": {
      "needs_background": "light"
     },
     "output_type": "display_data"
    }
   ],
   "source": [
    "portfolio = performance_analysis(df3,window=20,rf=0.025,leverage=1)"
   ]
  },
  {
   "cell_type": "code",
   "execution_count": 30,
   "metadata": {},
   "outputs": [
    {
     "data": {
      "text/plain": [
       "<matplotlib.axes._subplots.AxesSubplot at 0x25acd061320>"
      ]
     },
     "execution_count": 30,
     "metadata": {},
     "output_type": "execute_result"
    },
    {
     "data": {
      "image/png": "[encoded data removed]",
      "text/plain": [
       "<Figure size 1080x504 with 1 Axes>"
      ]
     },
     "metadata": {
      "needs_background": "light"
     },
     "output_type": "display_data"
    }
   ],
   "source": [
    "portfolio['cum_return'].plot(figsize=(15,7),grid=True)"
   ]
  },
  {
   "cell_type": "code",
   "execution_count": 16,
   "metadata": {},
   "outputs": [],
   "source": [
    "portfolio.to_csv(\"HDFC_KOTAK.csv\")"
   ]
  },
  {
   "cell_type": "code",
   "execution_count": null,
   "metadata": {},
   "outputs": [],
   "source": []
  },
  {
   "cell_type": "code",
   "execution_count": null,
   "metadata": {},
   "outputs": [],
   "source": []
  }
 ],
 "metadata": {
  "kernelspec": {
   "display_name": "Python 3",
   "language": "python",
   "name": "python3"
  },
  "language_info": {
   "codemirror_mode": {
    "name": "ipython",
    "version": 3
   },
   "file_extension": ".py",
   "mimetype": "text/x-python",
   "name": "python",
   "nbconvert_exporter": "python",
   "pygments_lexer": "ipython3",
   "version": "3.7.3"
  }
 },
 "nbformat": 4,
 "nbformat_minor": 2
}
